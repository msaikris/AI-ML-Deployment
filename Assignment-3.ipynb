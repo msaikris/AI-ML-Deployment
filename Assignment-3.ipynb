{
 "cells": [
  {
   "cell_type": "markdown",
   "metadata": {},
   "source": [
    "1. \n",
    " \n",
    "Write a function to compute 5/0 and use try/except to catch the exceptions.\n"
   ]
  },
  {
   "cell_type": "code",
   "execution_count": 2,
   "metadata": {},
   "outputs": [
    {
     "name": "stdout",
     "output_type": "stream",
     "text": [
      "Error dividing by zero\n"
     ]
    }
   ],
   "source": [
    "try:\n",
    "    y = 5 / 0\n",
    "except:\n",
    "    print(\"Error dividing by zero\")\n",
    "    "
   ]
  },
  {
   "cell_type": "markdown",
   "metadata": {},
   "source": [
    "2.\n",
    "Implement a Python program to generate all sentences where subject is in [\"Americans\", \"Indians\"] and verb is in [\"Play\", \"watch\"] and the object is in [\"Baseball\",\"cricket\"]. "
   ]
  },
  {
   "cell_type": "code",
   "execution_count": 7,
   "metadata": {},
   "outputs": [
    {
     "name": "stdout",
     "output_type": "stream",
     "text": [
      "Americans play Baseball\n",
      "Americans play Cricket\n",
      "Americans watch Baseball\n",
      "Americans watch Cricket\n",
      "Indians play Baseball\n",
      "Indians play Cricket\n",
      "Indians watch Baseball\n",
      "Indians watch Cricket\n"
     ]
    }
   ],
   "source": [
    "Subject=['Americans', 'Indians']\n",
    "Verb=['play', 'watch'] \n",
    "Object=['Baseball', 'Cricket']\n",
    "\n",
    "All_sentences=[(sub +\" \"+ ver +\" \" + obj) for sub in Subject for ver in Verb for obj in Object] \n",
    "for sentence in All_sentences: \n",
    "    print(sentence)"
   ]
  },
  {
   "cell_type": "markdown",
   "metadata": {},
   "source": [
    "1.  \n",
    " \n",
    "Write a function so that the columns of the output matrix are powers of the input vector.  \n",
    "The order of the powers is determined by the increasing boolean argument. Specifically, when              increasing is False, the i-th output column is the input vector raised element-wise to the power                of N - i - 1.  \n",
    " \n"
   ]
  },
  {
   "cell_type": "code",
   "execution_count": 20,
   "metadata": {},
   "outputs": [
    {
     "data": {
      "text/plain": [
       "48.00000000000003"
      ]
     },
     "execution_count": 20,
     "metadata": {},
     "output_type": "execute_result"
    }
   ],
   "source": [
    "import numpy as np\n",
    "x = np.array([1, 2, 3, 5])\n",
    "\n",
    "N = 3\n",
    "np.vander(x, N)\n",
    "np.array([[ 1,  1,  1],\n",
    "       [ 4,  2,  1],\n",
    "       [ 9,  3,  1],\n",
    "       [25,  5,  1]])\n",
    "\n",
    "np.column_stack([x**(N-1-i) for i in range(N)])\n",
    "np.array([[ 1,  1,  1],\n",
    "       [ 4,  2,  1],\n",
    "       [ 9,  3,  1],\n",
    "       [25,  5,  1]])\n",
    "\n",
    "x = np.array([1, 2, 3, 5])\n",
    "np.vander(x)\n",
    "np.array([[  1,   1,   1,   1],\n",
    "       [  8,   4,   2,   1],\n",
    "       [ 27,   9,   3,   1],\n",
    "       [125,  25,   5,   1]])\n",
    "\n",
    "np.vander(x, increasing=True)\n",
    "np.array([[  1,   1,   1,   1],\n",
    "       [  1,   2,   4,   8],\n",
    "       [  1,   3,   9,  27],\n",
    "       [  1,   5,  25, 125]])\n",
    "np.linalg.det(np.vander(x))\n"
   ]
  },
  {
   "cell_type": "code",
   "execution_count": null,
   "metadata": {},
   "outputs": [],
   "source": []
  }
 ],
 "metadata": {
  "kernelspec": {
   "display_name": "Python 3",
   "language": "python",
   "name": "python3"
  },
  "language_info": {
   "codemirror_mode": {
    "name": "ipython",
    "version": 3
   },
   "file_extension": ".py",
   "mimetype": "text/x-python",
   "name": "python",
   "nbconvert_exporter": "python",
   "pygments_lexer": "ipython3",
   "version": "3.7.3"
  }
 },
 "nbformat": 4,
 "nbformat_minor": 2
}
